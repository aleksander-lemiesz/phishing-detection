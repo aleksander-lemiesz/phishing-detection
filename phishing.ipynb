{
 "cells": [
  {
   "cell_type": "code",
   "execution_count": 21,
   "metadata": {},
   "outputs": [],
   "source": [
    "import pandas as pd\n",
    "import numpy as np\n",
    "import torch\n",
    "import torch.nn as nn\n",
    "from sklearn.model_selection import train_test_split\n",
    "from torch.utils.data import TensorDataset,DataLoader\n",
    "import torchvision.models as models\n",
    "import matplotlib.pyplot as plt\n",
    "import seaborn as sn\n",
    "from sklearn.preprocessing import MinMaxScaler"
   ]
  },
  {
   "cell_type": "code",
   "execution_count": 22,
   "metadata": {},
   "outputs": [],
   "source": [
    "device = \"cuda\" if torch.cuda.is_available() else 'cpu'\n",
    "savedModelName = 'phishing_v1.pt'\n",
    "batch = 32\n",
    "learning_rate = 0.001"
   ]
  },
  {
   "attachments": {},
   "cell_type": "markdown",
   "metadata": {},
   "source": [
    "Usage of dataset from https://data.mendeley.com/datasets/c2gw7fy2j4/3\n",
    "For citation use: Hannousse, Abdelhakim; Yahiouche, Salima (2021), “Web page phishing detection”, Mendeley Data, V3, doi: 10.17632/c2gw7fy2j4.3"
   ]
  },
  {
   "cell_type": "code",
   "execution_count": 23,
   "metadata": {},
   "outputs": [
    {
     "data": {
      "text/html": [
       "<div>\n",
       "<style scoped>\n",
       "    .dataframe tbody tr th:only-of-type {\n",
       "        vertical-align: middle;\n",
       "    }\n",
       "\n",
       "    .dataframe tbody tr th {\n",
       "        vertical-align: top;\n",
       "    }\n",
       "\n",
       "    .dataframe thead th {\n",
       "        text-align: right;\n",
       "    }\n",
       "</style>\n",
       "<table border=\"1\" class=\"dataframe\">\n",
       "  <thead>\n",
       "    <tr style=\"text-align: right;\">\n",
       "      <th></th>\n",
       "      <th>length_url</th>\n",
       "      <th>length_hostname</th>\n",
       "      <th>ip</th>\n",
       "      <th>nb_dots</th>\n",
       "      <th>nb_hyphens</th>\n",
       "      <th>nb_at</th>\n",
       "      <th>nb_qm</th>\n",
       "      <th>nb_and</th>\n",
       "      <th>nb_or</th>\n",
       "      <th>nb_eq</th>\n",
       "      <th>...</th>\n",
       "      <th>domain_in_title</th>\n",
       "      <th>domain_with_copyright</th>\n",
       "      <th>whois_registered_domain</th>\n",
       "      <th>domain_registration_length</th>\n",
       "      <th>domain_age</th>\n",
       "      <th>web_traffic</th>\n",
       "      <th>dns_record</th>\n",
       "      <th>google_index</th>\n",
       "      <th>page_rank</th>\n",
       "      <th>status</th>\n",
       "    </tr>\n",
       "  </thead>\n",
       "  <tbody>\n",
       "    <tr>\n",
       "      <th>0</th>\n",
       "      <td>37</td>\n",
       "      <td>19</td>\n",
       "      <td>0</td>\n",
       "      <td>3</td>\n",
       "      <td>0</td>\n",
       "      <td>0</td>\n",
       "      <td>0</td>\n",
       "      <td>0</td>\n",
       "      <td>0</td>\n",
       "      <td>0</td>\n",
       "      <td>...</td>\n",
       "      <td>0</td>\n",
       "      <td>1</td>\n",
       "      <td>0</td>\n",
       "      <td>45</td>\n",
       "      <td>-1</td>\n",
       "      <td>0</td>\n",
       "      <td>1</td>\n",
       "      <td>1</td>\n",
       "      <td>4</td>\n",
       "      <td>legitimate</td>\n",
       "    </tr>\n",
       "  </tbody>\n",
       "</table>\n",
       "<p>1 rows × 88 columns</p>\n",
       "</div>"
      ],
      "text/plain": [
       "   length_url  length_hostname  ip  nb_dots  nb_hyphens  nb_at  nb_qm  nb_and  \\\n",
       "0          37               19   0        3           0      0      0       0   \n",
       "\n",
       "   nb_or  nb_eq  ...  domain_in_title  domain_with_copyright  \\\n",
       "0      0      0  ...                0                      1   \n",
       "\n",
       "   whois_registered_domain  domain_registration_length  domain_age  \\\n",
       "0                        0                          45          -1   \n",
       "\n",
       "   web_traffic  dns_record  google_index  page_rank      status  \n",
       "0            0           1             1          4  legitimate  \n",
       "\n",
       "[1 rows x 88 columns]"
      ]
     },
     "execution_count": 23,
     "metadata": {},
     "output_type": "execute_result"
    }
   ],
   "source": [
    "# Load the dataset into a pandas dataframe\n",
    "filename = \"datasets/Web_page_Phishing_Detection_Dataset/dataset_phishing.csv\"\n",
    "# Read the file and drop the link itself as the classification will base on features not the link itself\n",
    "df = pd.read_csv(filename).drop(\"url\", axis=\"columns\")\n",
    "# Print resulting dataframe columns\n",
    "df.head(1)"
   ]
  },
  {
   "cell_type": "code",
   "execution_count": 24,
   "metadata": {},
   "outputs": [
    {
     "name": "stdout",
     "output_type": "stream",
     "text": [
      "Dataset labels:\n",
      "['legitimate' 'phishing']\n",
      "{'legitimate': 0, 'phishing': 1}\n"
     ]
    }
   ],
   "source": [
    "# Check what are the labels in the dataset\n",
    "print(\"Dataset labels:\")\n",
    "labels = np.unique(df[\"status\"])\n",
    "print(labels)\n",
    "\n",
    "# Create map that will allow for encoding of labels in order to be able to be used in PyTorch DataLoader\n",
    "class_to_idx = {}\n",
    "for i, status in enumerate(labels):\n",
    "    class_to_idx[status] = i\n",
    "print(class_to_idx)"
   ]
  },
  {
   "cell_type": "code",
   "execution_count": 25,
   "metadata": {},
   "outputs": [
    {
     "data": {
      "text/html": [
       "<div>\n",
       "<style scoped>\n",
       "    .dataframe tbody tr th:only-of-type {\n",
       "        vertical-align: middle;\n",
       "    }\n",
       "\n",
       "    .dataframe tbody tr th {\n",
       "        vertical-align: top;\n",
       "    }\n",
       "\n",
       "    .dataframe thead th {\n",
       "        text-align: right;\n",
       "    }\n",
       "</style>\n",
       "<table border=\"1\" class=\"dataframe\">\n",
       "  <thead>\n",
       "    <tr style=\"text-align: right;\">\n",
       "      <th></th>\n",
       "      <th>status</th>\n",
       "    </tr>\n",
       "  </thead>\n",
       "  <tbody>\n",
       "    <tr>\n",
       "      <th>0</th>\n",
       "      <td>0</td>\n",
       "    </tr>\n",
       "    <tr>\n",
       "      <th>1</th>\n",
       "      <td>1</td>\n",
       "    </tr>\n",
       "    <tr>\n",
       "      <th>2</th>\n",
       "      <td>1</td>\n",
       "    </tr>\n",
       "    <tr>\n",
       "      <th>3</th>\n",
       "      <td>0</td>\n",
       "    </tr>\n",
       "    <tr>\n",
       "      <th>4</th>\n",
       "      <td>0</td>\n",
       "    </tr>\n",
       "  </tbody>\n",
       "</table>\n",
       "</div>"
      ],
      "text/plain": [
       "   status\n",
       "0       0\n",
       "1       1\n",
       "2       1\n",
       "3       0\n",
       "4       0"
      ]
     },
     "execution_count": 25,
     "metadata": {},
     "output_type": "execute_result"
    }
   ],
   "source": [
    "# Encode labels using previously created map for labels\n",
    "df[\"status\"] = df[\"status\"].map(class_to_idx)\n",
    "\n",
    "# Separate features with classes that they belong to\n",
    "features = df.iloc[:, :-1]\n",
    "is_phishing = df.iloc[:,-1:]\n",
    "\n",
    "# Check if the labels were encoded to 0 and 1\n",
    "is_phishing.head(5)"
   ]
  },
  {
   "cell_type": "code",
   "execution_count": 26,
   "metadata": {},
   "outputs": [],
   "source": [
    "# Split train data with test data that will allow for checking if the algorithm works fine on new records\n",
    "train_x, test_x, train_y, test_y = train_test_split(features, is_phishing, \n",
    "test_size=0.2, random_state=13, shuffle=True, stratify=is_phishing)\n",
    "\n",
    "# Create tensors that will be used to create PyTorch Dataset, \n",
    "# add float conversion to avoid input type (double) and bias type (float) as they should be the same\n",
    "# add unsqueze to prevent error of comparing sizes [32, 1] and [32] while learning and validating\n",
    "train_x_t=torch.from_numpy(train_x.values).float()\n",
    "train_y_t=torch.from_numpy(train_y['status'].values).float().unsqueeze(1)\n",
    "\n",
    "test_x_t=torch.from_numpy(test_x.values).float()\n",
    "test_y_t=torch.from_numpy(test_y['status'].values).float().unsqueeze(1)\n",
    "\n",
    "# Create datasets necessary for training and validation\n",
    "trainingSet=TensorDataset(train_x_t,train_y_t)\n",
    "testingSet=TensorDataset(test_x_t,test_y_t)\n",
    "\n",
    "# Load data into DataLoader with batch\n",
    "trainLoader = DataLoader(trainingSet, batch_size=batch, shuffle=True)\n",
    "testLoader = DataLoader(testingSet, batch_size=batch, shuffle=True)"
   ]
  },
  {
   "cell_type": "code",
   "execution_count": 28,
   "metadata": {},
   "outputs": [],
   "source": [
    "# Create neural network model to be learned\n",
    "model = nn.Sequential(\n",
    "    nn.BatchNorm1d(num_features=87),\n",
    "    # 87 features in dataset\n",
    "    nn.Linear(in_features=87,out_features=300),\n",
    "    nn.ReLU(),\n",
    "    \n",
    "    # nn.Conv1d(in_channels=32, out_channels=1, kernel_size=300, stride=1, padding=0, dilation=1),\n",
    "    # nn.ReLU(),\n",
    "    # nn.Flatten(),\n",
    "    # nn.Dropout(p=0.5),\n",
    "    # nn.LSTMCell(300, 300),\n",
    "\n",
    "    nn.Linear(in_features=300,out_features=300),\n",
    "    nn.ReLU(),\n",
    "    \n",
    "    nn.Linear(in_features=300,out_features=1),\n",
    "    nn.Sigmoid()\n",
    ")\n",
    "\n",
    "# Cross entropy loss for binary classification\n",
    "# criterion=nn.BCELoss()\n",
    "\n",
    "# Combination of the sigmoid activation function and the binary cross-entropy loss\n",
    "criterion = nn.BCEWithLogitsLoss()\n",
    "\n",
    "# Tried optimizers\n",
    "# optimizer = torch.optim.SGD(model.parameters(), lr=0.001, momentum=0.9)\n",
    "optimizer = torch.optim.Adam(model.parameters(), lr=learning_rate)"
   ]
  },
  {
   "cell_type": "code",
   "execution_count": 29,
   "metadata": {},
   "outputs": [
    {
     "name": "stdout",
     "output_type": "stream",
     "text": [
      "Epoch 1 loss: 0.542\n",
      "Accuracy on the test set: 92.87 %\n",
      "Epoch 2 loss: 0.529\n",
      "Accuracy on the test set: 94.14 %\n",
      "Finished Training\n"
     ]
    }
   ],
   "source": [
    "noEpochs = 100\n",
    "epochsRun = 0\n",
    "loss_vals = []\n",
    "accs_vals = []\n",
    "# Train the network\n",
    "for epoch in range(noEpochs):\n",
    "    epoch_loss= []\n",
    "\n",
    "    for i, data in enumerate(trainLoader, 0):\n",
    "        inputs, labels = data\n",
    "        optimizer.zero_grad()\n",
    "\n",
    "        outputs = model(inputs)\n",
    "        loss = criterion(outputs, labels)\n",
    "        loss.backward()\n",
    "        optimizer.step()\n",
    "\n",
    "        epoch_loss.append(loss.item())\n",
    "\n",
    "    # Validate the network after each epoch\n",
    "    with torch.no_grad():\n",
    "        correct = 0\n",
    "        total = 0\n",
    "        for data in testLoader:\n",
    "            inputs, labels = data\n",
    "            outputs = model(inputs)\n",
    "            predicted = torch.round(outputs.data)\n",
    "            total += labels.size(0)\n",
    "            correct += (predicted == labels).sum().item()\n",
    "\n",
    "    epochsRun = epoch + 1\n",
    "    val_loss = sum(epoch_loss)/len(epoch_loss)\n",
    "    val_acc = 100 * correct / total\n",
    "\n",
    "    if epoch > 0 and accs_vals[-1] > val_acc:\n",
    "        break\n",
    "    else:\n",
    "        print('Epoch %d loss: %.3f' % (epoch + 1, val_loss))\n",
    "        print('Accuracy on the test set: %.2f %%' % (val_acc))\n",
    "        \n",
    "        loss_vals.append(val_loss)\n",
    "        accs_vals.append(val_acc)\n",
    "\n",
    "torch.save(model, savedModelName)\n",
    "print('Finished Training')"
   ]
  },
  {
   "cell_type": "code",
   "execution_count": 30,
   "metadata": {},
   "outputs": [
    {
     "name": "stdout",
     "output_type": "stream",
     "text": [
      "Final accuracy on the test set: 94.14 %\n"
     ]
    },
    {
     "data": {
      "image/png": "[encoded data removed]",
      "text/plain": [
       "<Figure size 432x288 with 1 Axes>"
      ]
     },
     "metadata": {
      "needs_background": "light"
     },
     "output_type": "display_data"
    }
   ],
   "source": [
    "plt.plot(np.linspace(1, epochsRun-1, epochsRun-1).astype(int), loss_vals)\n",
    "print('Final accuracy on the test set: %.2f %%' % (accs_vals[-1]))"
   ]
  }
 ],
 "metadata": {
  "kernelspec": {
   "display_name": "Python 3",
   "language": "python",
   "name": "python3"
  },
  "language_info": {
   "codemirror_mode": {
    "name": "ipython",
    "version": 3
   },
   "file_extension": ".py",
   "mimetype": "text/x-python",
   "name": "python",
   "nbconvert_exporter": "python",
   "pygments_lexer": "ipython3",
   "version": "3.10.2"
  },
  "orig_nbformat": 4,
  "vscode": {
   "interpreter": {
    "hash": "1db53b7b098ce13369892f6fa64e6960b1b60742cc9b3126941b620089625937"
   }
  }
 },
 "nbformat": 4,
 "nbformat_minor": 2
}
