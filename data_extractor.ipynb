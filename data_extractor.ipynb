{
 "cells": [
  {
   "attachments": {},
   "cell_type": "markdown",
   "metadata": {},
   "source": [
    "File used for features extraction for given url in csv format"
   ]
  },
  {
   "cell_type": "code",
   "execution_count": 1,
   "metadata": {},
   "outputs": [
    {
     "name": "stderr",
     "output_type": "stream",
     "text": [
      "c:\\Users\\creep\\AppData\\Local\\Programs\\Python\\Python310\\lib\\site-packages\\tqdm\\auto.py:22: TqdmWarning: IProgress not found. Please update jupyter and ipywidgets. See https://ipywidgets.readthedocs.io/en/stable/user_install.html\n",
      "  from .autonotebook import tqdm as notebook_tqdm\n"
     ]
    }
   ],
   "source": [
    "import features_extractors.content_features as ctnfe\n",
    "import features_extractors.url_features as urlfe\n",
    "import features_extractors.external_features as trdfe\n",
    "import features_extractors.feature_extractor as ftext\n",
    "import sys\n",
    "import pandas as pd\n",
    "import torch\n",
    "import numpy as np\n",
    "from torch.utils.data import TensorDataset,DataLoader\n",
    "from sklearn.model_selection import train_test_split\n",
    "import pickle"
   ]
  },
  {
   "cell_type": "code",
   "execution_count": 2,
   "metadata": {},
   "outputs": [],
   "source": [
    "header = [\n",
    "        \"url\", \"length_url\", \"length_hostname\", \"ip\", \"nb_dots\", \"nb_hyphens\", \"nb_at\", \"nb_qm\", \"nb_and\", \"nb_or\", \"nb_eq\", \"nb_underscore\",\n",
    "        \"nb_tilde\", \"nb_percent\", \"nb_slash\", \"nb_star\", \"nb_colon\", \"nb_comma\", \"nb_semicolumn\", \"nb_dollar\", \"nb_space\", \"nb_www\", \"nb_com\", \"nb_dslash\",\n",
    "        \"http_in_path\", \"https_token\", \"ratio_digits_url\", \"ratio_digits_host\", \"punycode\", \"port\", \"tld_in_path\", \"tld_in_subdomain\",\n",
    "        \"abnormal_subdomain\", \"nb_subdomains\", \"prefix_suffix\", \"shortening_service\", \"path_extension\", \"nb_redirection\",\n",
    "        \"nb_external_redirection\", \"length_words_raw\", \"char_repeat\", \"shortest_words_raw\", \"shortest_word_host\", \"shortest_word_path\",\n",
    "        \"longest_words_raw\", \"longest_word_host\", \"longest_word_path\", \"avg_words_raw\", \"avg_word_host\", \"avg_word_path\", \"phish_hints\",\n",
    "        \"domain_in_brand\", \"brand_in_subdomain\", \"brand_in_path\", \"suspecious_tld\", \"statistical_report\", \"nb_hyperlinks\", \"ratio_intHyperlinks\",\n",
    "        \"ratio_extHyperlinks\", \"ratio_nullHyperlinks\", \"nb_extCSS\", \"ratio_intRedirection\", \"ratio_extRedirection\", \"ratio_intErrors\",\n",
    "        \"ratio_extErrors\", \"login_form\", \"external_favicon\", \"links_in_tags\", \"submit_email\", \"ratio_intMedia\", \"ratio_extMedia\", \"sfh\", \"iframe\",\n",
    "        \"popup_window\", \"safe_anchor\", \"onmouseover\", \"right_clic\", \"empty_title\", \"domain_in_title\", \"domain_with_copyright\", \"whois_registered_domain\",\n",
    "        \"domain_registration_length\", \"domain_age\", \"web_traffic\", \"dns_record\", \"google_index\", \"page_rank\", \"status\"\n",
    "]"
   ]
  },
  {
   "cell_type": "code",
   "execution_count": 3,
   "metadata": {},
   "outputs": [
    {
     "name": "stdout",
     "output_type": "stream",
     "text": [
      "Your url is:  https://technofizi.net/top-best-mp3-downloader-app-for-android-free-music-download/\n"
     ]
    }
   ],
   "source": [
    "# Setup input\n",
    "\n",
    "url = input(\"Give url:\")\n",
    "# url = 'https://technofizi.net/top-best-mp3-downloader-app-for-android-free-music-download/'\n",
    "print(\"Your url is: \", url)"
   ]
  },
  {
   "cell_type": "code",
   "execution_count": 4,
   "metadata": {},
   "outputs": [
    {
     "name": "stdout",
     "output_type": "stream",
     "text": [
      "['https://technofizi.net/top-best-mp3-downloader-app-for-android-free-music-download/', 83, 14, 0, 1, 9, 0, 0, 0, 0, 0, 0, 0, 0, 4, 0, 1, 0, 0, 0, 0, 0, 0, 0, 0, 0, 0.012048192771084338, 0.0, 0, 0, 0, 0, 0, 1, 0, 0, 0, 0, 0, 11, 2, 3, 10, 3, 10, 10, 10, 5.454545454545454, 10.0, 5.0, 0, 0, 0, 0, 0, 0, 261, 0.7318007662835249, 0.2681992337164751, 0.0, 0, 0.0, 0.02857142857142857, 0.0, 0.2, 0, 0, 100.0, 0, 97.82608695652173, 2.1739130434782608, 0, 0, 0, 39.823008849557525, 0, 0, 0, 1, 1, 1, -1, 172183, 0, 0, 1, 5, 0]\n"
     ]
    }
   ],
   "source": [
    "status = 0\n",
    "features = ftext.extract_features(url, status)\n",
    "print(features)"
   ]
  },
  {
   "cell_type": "code",
   "execution_count": 5,
   "metadata": {},
   "outputs": [
    {
     "data": {
      "text/plain": [
       "Sequential(\n",
       "  (0): Linear(in_features=86, out_features=300, bias=True)\n",
       "  (1): ReLU()\n",
       "  (2): Dropout(p=0.2, inplace=False)\n",
       "  (3): Linear(in_features=300, out_features=300, bias=True)\n",
       "  (4): ReLU()\n",
       "  (5): Dropout(p=0.1, inplace=False)\n",
       "  (6): BatchNorm1d(300, eps=1e-05, momentum=0.1, affine=True, track_running_stats=True)\n",
       "  (7): Linear(in_features=300, out_features=1, bias=True)\n",
       "  (8): Sigmoid()\n",
       ")"
      ]
     },
     "execution_count": 5,
     "metadata": {},
     "output_type": "execute_result"
    }
   ],
   "source": [
    "savedModelName = 'phishing_v1.pt'\n",
    "model = torch.load(savedModelName)\n",
    "model.eval()"
   ]
  },
  {
   "cell_type": "code",
   "execution_count": 6,
   "metadata": {},
   "outputs": [
    {
     "data": {
      "text/html": [
       "<div>\n",
       "<style scoped>\n",
       "    .dataframe tbody tr th:only-of-type {\n",
       "        vertical-align: middle;\n",
       "    }\n",
       "\n",
       "    .dataframe tbody tr th {\n",
       "        vertical-align: top;\n",
       "    }\n",
       "\n",
       "    .dataframe thead th {\n",
       "        text-align: right;\n",
       "    }\n",
       "</style>\n",
       "<table border=\"1\" class=\"dataframe\">\n",
       "  <thead>\n",
       "    <tr style=\"text-align: right;\">\n",
       "      <th></th>\n",
       "      <th>length_url</th>\n",
       "      <th>length_hostname</th>\n",
       "      <th>ip</th>\n",
       "      <th>nb_dots</th>\n",
       "      <th>nb_hyphens</th>\n",
       "      <th>nb_at</th>\n",
       "      <th>nb_qm</th>\n",
       "      <th>nb_and</th>\n",
       "      <th>nb_or</th>\n",
       "      <th>nb_eq</th>\n",
       "      <th>...</th>\n",
       "      <th>domain_in_title</th>\n",
       "      <th>domain_with_copyright</th>\n",
       "      <th>whois_registered_domain</th>\n",
       "      <th>domain_registration_length</th>\n",
       "      <th>domain_age</th>\n",
       "      <th>web_traffic</th>\n",
       "      <th>dns_record</th>\n",
       "      <th>google_index</th>\n",
       "      <th>page_rank</th>\n",
       "      <th>status</th>\n",
       "    </tr>\n",
       "  </thead>\n",
       "  <tbody>\n",
       "    <tr>\n",
       "      <th>0</th>\n",
       "      <td>83</td>\n",
       "      <td>14</td>\n",
       "      <td>0</td>\n",
       "      <td>1</td>\n",
       "      <td>9</td>\n",
       "      <td>0</td>\n",
       "      <td>0</td>\n",
       "      <td>0</td>\n",
       "      <td>0</td>\n",
       "      <td>0</td>\n",
       "      <td>...</td>\n",
       "      <td>1</td>\n",
       "      <td>1</td>\n",
       "      <td>1</td>\n",
       "      <td>-1</td>\n",
       "      <td>172183</td>\n",
       "      <td>0</td>\n",
       "      <td>0</td>\n",
       "      <td>1</td>\n",
       "      <td>5</td>\n",
       "      <td>0</td>\n",
       "    </tr>\n",
       "  </tbody>\n",
       "</table>\n",
       "<p>1 rows × 87 columns</p>\n",
       "</div>"
      ],
      "text/plain": [
       "   length_url  length_hostname  ip  nb_dots  nb_hyphens  nb_at  nb_qm  nb_and  \\\n",
       "0          83               14   0        1           9      0      0       0   \n",
       "\n",
       "   nb_or  nb_eq  ...  domain_in_title  domain_with_copyright  \\\n",
       "0      0      0  ...                1                      1   \n",
       "\n",
       "   whois_registered_domain  domain_registration_length  domain_age  \\\n",
       "0                        1                          -1      172183   \n",
       "\n",
       "   web_traffic  dns_record  google_index  page_rank  status  \n",
       "0            0           0             1          5       0  \n",
       "\n",
       "[1 rows x 87 columns]"
      ]
     },
     "execution_count": 6,
     "metadata": {},
     "output_type": "execute_result"
    }
   ],
   "source": [
    "df = pd.DataFrame(data=[features], columns=header).drop(\"url\", axis=\"columns\")\n",
    "df.head(1)"
   ]
  },
  {
   "cell_type": "code",
   "execution_count": 7,
   "metadata": {},
   "outputs": [
    {
     "data": {
      "text/html": [
       "<div>\n",
       "<style scoped>\n",
       "    .dataframe tbody tr th:only-of-type {\n",
       "        vertical-align: middle;\n",
       "    }\n",
       "\n",
       "    .dataframe tbody tr th {\n",
       "        vertical-align: top;\n",
       "    }\n",
       "\n",
       "    .dataframe thead th {\n",
       "        text-align: right;\n",
       "    }\n",
       "</style>\n",
       "<table border=\"1\" class=\"dataframe\">\n",
       "  <thead>\n",
       "    <tr style=\"text-align: right;\">\n",
       "      <th></th>\n",
       "      <th>length_url</th>\n",
       "      <th>length_hostname</th>\n",
       "      <th>ip</th>\n",
       "      <th>nb_dots</th>\n",
       "      <th>nb_hyphens</th>\n",
       "      <th>nb_at</th>\n",
       "      <th>nb_qm</th>\n",
       "      <th>nb_and</th>\n",
       "      <th>nb_or</th>\n",
       "      <th>nb_eq</th>\n",
       "      <th>...</th>\n",
       "      <th>empty_title</th>\n",
       "      <th>domain_in_title</th>\n",
       "      <th>domain_with_copyright</th>\n",
       "      <th>whois_registered_domain</th>\n",
       "      <th>domain_registration_length</th>\n",
       "      <th>domain_age</th>\n",
       "      <th>web_traffic</th>\n",
       "      <th>dns_record</th>\n",
       "      <th>google_index</th>\n",
       "      <th>page_rank</th>\n",
       "    </tr>\n",
       "  </thead>\n",
       "  <tbody>\n",
       "    <tr>\n",
       "      <th>0</th>\n",
       "      <td>0.043585</td>\n",
       "      <td>0.047619</td>\n",
       "      <td>0.0</td>\n",
       "      <td>0.0</td>\n",
       "      <td>0.209302</td>\n",
       "      <td>0.0</td>\n",
       "      <td>0.0</td>\n",
       "      <td>0.0</td>\n",
       "      <td>0.0</td>\n",
       "      <td>0.0</td>\n",
       "      <td>...</td>\n",
       "      <td>0.0</td>\n",
       "      <td>1.0</td>\n",
       "      <td>1.0</td>\n",
       "      <td>1.0</td>\n",
       "      <td>0.0</td>\n",
       "      <td>13.362952</td>\n",
       "      <td>0.0</td>\n",
       "      <td>0.0</td>\n",
       "      <td>1.0</td>\n",
       "      <td>0.5</td>\n",
       "    </tr>\n",
       "  </tbody>\n",
       "</table>\n",
       "<p>1 rows × 86 columns</p>\n",
       "</div>"
      ],
      "text/plain": [
       "   length_url  length_hostname   ip  nb_dots  nb_hyphens  nb_at  nb_qm  \\\n",
       "0    0.043585         0.047619  0.0      0.0    0.209302    0.0    0.0   \n",
       "\n",
       "   nb_and  nb_or  nb_eq  ...  empty_title  domain_in_title  \\\n",
       "0     0.0    0.0    0.0  ...          0.0              1.0   \n",
       "\n",
       "   domain_with_copyright  whois_registered_domain  domain_registration_length  \\\n",
       "0                    1.0                      1.0                         0.0   \n",
       "\n",
       "   domain_age  web_traffic  dns_record  google_index  page_rank  \n",
       "0   13.362952          0.0         0.0           1.0        0.5  \n",
       "\n",
       "[1 rows x 86 columns]"
      ]
     },
     "execution_count": 7,
     "metadata": {},
     "output_type": "execute_result"
    }
   ],
   "source": [
    "features = df.iloc[:, :-1]\n",
    "is_phishing = df.iloc[:,-1:]\n",
    "\n",
    "# Normalize the data\n",
    "scaler = pickle.load(open('scaler.pkl', 'rb'))\n",
    "feats_scaled = scaler.transform(features.values)\n",
    "features = pd.DataFrame(data=feats_scaled, columns=features.columns)\n",
    "features.head(1)"
   ]
  },
  {
   "cell_type": "code",
   "execution_count": 8,
   "metadata": {},
   "outputs": [],
   "source": [
    "test_x_t=torch.from_numpy(features.values).float()\n",
    "test_y_t=torch.from_numpy(is_phishing['status'].values).float().unsqueeze(1)\n",
    "\n",
    "testingSet=TensorDataset(test_x_t,test_y_t)\n",
    "testLoader = DataLoader(testingSet, batch_size=1, shuffle=True)"
   ]
  },
  {
   "cell_type": "code",
   "execution_count": 9,
   "metadata": {},
   "outputs": [
    {
     "name": "stdout",
     "output_type": "stream",
     "text": [
      "tensor([[0.]])\n"
     ]
    }
   ],
   "source": [
    "with torch.no_grad():\n",
    "    for data in testLoader:\n",
    "        inputs, labels = data\n",
    "        outputs = model(inputs)\n",
    "        predicted = torch.round(outputs.data)\n",
    "        print(predicted)"
   ]
  },
  {
   "cell_type": "code",
   "execution_count": 10,
   "metadata": {},
   "outputs": [
    {
     "name": "stdout",
     "output_type": "stream",
     "text": [
      "The link is not phishing!\n"
     ]
    }
   ],
   "source": [
    "if predicted == 1:\n",
    "    print('The link might be phishing!')\n",
    "else:\n",
    "    print('The link is not phishing!')"
   ]
  }
 ],
 "metadata": {
  "kernelspec": {
   "display_name": "Python 3",
   "language": "python",
   "name": "python3"
  },
  "language_info": {
   "codemirror_mode": {
    "name": "ipython",
    "version": 3
   },
   "file_extension": ".py",
   "mimetype": "text/x-python",
   "name": "python",
   "nbconvert_exporter": "python",
   "pygments_lexer": "ipython3",
   "version": "3.10.2"
  },
  "orig_nbformat": 4,
  "vscode": {
   "interpreter": {
    "hash": "1db53b7b098ce13369892f6fa64e6960b1b60742cc9b3126941b620089625937"
   }
  }
 },
 "nbformat": 4,
 "nbformat_minor": 2
}
