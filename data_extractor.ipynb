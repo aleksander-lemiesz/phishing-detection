{
 "cells": [
  {
   "attachments": {},
   "cell_type": "markdown",
   "metadata": {},
   "source": [
    "File used for features extraction for given url in csv format"
   ]
  },
  {
   "cell_type": "code",
   "execution_count": 4,
   "metadata": {},
   "outputs": [],
   "source": [
    "import features_extractors.content_features as ctnfe\n",
    "import features_extractors.url_features as urlfe\n",
    "import features_extractors.external_features as trdfe\n",
    "import features_extractors.feature_extractor as ftext\n",
    "import sys"
   ]
  },
  {
   "cell_type": "code",
   "execution_count": null,
   "metadata": {},
   "outputs": [],
   "source": [
    "header = [\n",
    "        \"url\", \"length_url\", \"length_hostname\", \"ip\", \"nb_dots\", \"nb_hyphens\", \"nb_at\", \"nb_qm\", \"nb_and\", \"nb_or\", \"nb_eq\", \"nb_underscore\",\n",
    "        \"nb_tilde\", \"nb_percent\", \"nb_slash\", \"nb_star\", \"nb_colon\", \"nb_comma\", \"nb_semicolumn\", \"nb_dollar\", \"nb_space\", \"nb_www\", \"nb_com\", \"nb_dslash\",\n",
    "        \"http_in_path\", \"https_token\", \"ratio_digits_url\", \"ratio_digits_host\", \"punycode\", \"port\", \"tld_in_path\", \"tld_in_subdomain\",\n",
    "        \"abnormal_subdomain\", \"nb_subdomains\", \"prefix_suffix\", \"shortening_service\", \"path_extension\", \"nb_redirection\",\n",
    "        \"nb_external_redirection\", \"length_words_raw\", \"char_repeat\", \"shortest_words_raw\", \"shortest_word_host\", \"shortest_word_path\",\n",
    "        \"longest_words_raw\", \"longest_word_host\", \"longest_word_path\", \"avg_words_raw\", \"avg_word_host\", \"avg_word_path\", \"phish_hints\",\n",
    "        \"domain_in_brand\", \"brand_in_subdomain\", \"brand_in_path\", \"suspecious_tld\", \"statistical_report\", \"nb_hyperlinks\", \"ratio_intHyperlinks\",\n",
    "        \"ratio_extHyperlinks\", \"ratio_nullHyperlinks\", \"nb_extCSS\", \"ratio_intRedirection\", \"ratio_extRedirection\", \"ratio_intErrors\",\n",
    "        \"ratio_extErrors\", \"login_form\", \"external_favicon\", \"links_in_tags\", \"submit_email\", \"ratio_intMedia\", \"ratio_extMedia\", \"sfh\", \"iframe\",\n",
    "        \"popup_window\", \"safe_anchor\", \"onmouseover\", \"right_clic\", \"empty_title\", \"domain_in_title\", \"domain_with_copyright\", \"whois_registered_domain\",\n",
    "        \"domain_registration_length\", \"domain_age\", \"web_traffic\", \"dns_record\", \"google_index\", \"page_rank\", \"status\"\n",
    "]"
   ]
  },
  {
   "cell_type": "code",
   "execution_count": null,
   "metadata": {},
   "outputs": [],
   "source": [
    "# Setup input\n",
    "\n",
    "url = input(\"Give url:\")\n",
    "print(\"Your url is: \", url)"
   ]
  },
  {
   "cell_type": "code",
   "execution_count": null,
   "metadata": {},
   "outputs": [],
   "source": [
    "status = 1\n",
    "features = ftext.extract_features(url, status)"
   ]
  }
 ],
 "metadata": {
  "kernelspec": {
   "display_name": "Python 3",
   "language": "python",
   "name": "python3"
  },
  "language_info": {
   "codemirror_mode": {
    "name": "ipython",
    "version": 3
   },
   "file_extension": ".py",
   "mimetype": "text/x-python",
   "name": "python",
   "nbconvert_exporter": "python",
   "pygments_lexer": "ipython3",
   "version": "3.10.2"
  },
  "orig_nbformat": 4,
  "vscode": {
   "interpreter": {
    "hash": "1db53b7b098ce13369892f6fa64e6960b1b60742cc9b3126941b620089625937"
   }
  }
 },
 "nbformat": 4,
 "nbformat_minor": 2
}
